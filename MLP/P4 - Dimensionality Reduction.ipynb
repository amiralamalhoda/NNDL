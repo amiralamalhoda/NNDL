{
  "nbformat": 4,
  "nbformat_minor": 0,
  "metadata": {
    "colab": {
      "name": "autoencoder.ipynb",
      "provenance": [],
      "collapsed_sections": []
    },
    "kernelspec": {
      "name": "python3",
      "display_name": "Python 3"
    },
    "accelerator": "GPU"
  },
  "cells": [
    {
      "cell_type": "code",
      "metadata": {
        "id": "W_aPUztLNALE",
        "colab_type": "code",
        "colab": {
          "base_uri": "https://localhost:8080/",
          "height": 188
        },
        "outputId": "baee224c-ecf6-447e-f40f-04809a81987b"
      },
      "source": [
        "import numpy as np\n",
        "from tensorflow import keras\n",
        "from matplotlib import pyplot as plt\n",
        "from keras.datasets import fashion_mnist\n",
        "(x_train,y_train),(x_test,y_test)=fashion_mnist.load_data()"
      ],
      "execution_count": 1,
      "outputs": [
        {
          "output_type": "stream",
          "text": [
            "Using TensorFlow backend.\n"
          ],
          "name": "stderr"
        },
        {
          "output_type": "stream",
          "text": [
            "Downloading data from http://fashion-mnist.s3-website.eu-central-1.amazonaws.com/train-labels-idx1-ubyte.gz\n",
            "32768/29515 [=================================] - 0s 5us/step\n",
            "Downloading data from http://fashion-mnist.s3-website.eu-central-1.amazonaws.com/train-images-idx3-ubyte.gz\n",
            "26427392/26421880 [==============================] - 2s 0us/step\n",
            "Downloading data from http://fashion-mnist.s3-website.eu-central-1.amazonaws.com/t10k-labels-idx1-ubyte.gz\n",
            "8192/5148 [===============================================] - 0s 0us/step\n",
            "Downloading data from http://fashion-mnist.s3-website.eu-central-1.amazonaws.com/t10k-images-idx3-ubyte.gz\n",
            "4423680/4422102 [==============================] - 1s 0us/step\n"
          ],
          "name": "stdout"
        }
      ]
    },
    {
      "cell_type": "code",
      "metadata": {
        "id": "AhlUgboWOLof",
        "colab_type": "code",
        "colab": {}
      },
      "source": [
        "x_train = x_train.reshape((len(x_train), 28*28,)) / 255\n",
        "x_test = x_test.reshape((len(x_test), 28*28,)) / 255"
      ],
      "execution_count": 0,
      "outputs": []
    },
    {
      "cell_type": "code",
      "metadata": {
        "id": "Km8sMYxxO72E",
        "colab_type": "code",
        "colab": {}
      },
      "source": [
        "reduced_dim = 200\n",
        "inp = keras.layers.Input(shape = (x_train.shape[1],))\n",
        "encoded = keras.layers.Dense(reduced_dim, activation= 'relu')(inp)\n",
        "decoded = keras.layers.Dense(28*28, activation = 'sigmoid')(encoded)\n",
        "\n",
        "autoencoder = keras.models.Model(inp, decoded)\n",
        "encoder = keras.models.Model(inp, encoded)\n",
        "\n",
        "dec_inp = keras.layers.Input((reduced_dim,))\n",
        "decoder = keras.models.Model(dec_inp, autoencoder.layers[-1](dec_inp))\n"
      ],
      "execution_count": 0,
      "outputs": []
    },
    {
      "cell_type": "code",
      "metadata": {
        "id": "Q7aoDRYIU3Bq",
        "colab_type": "code",
        "colab": {
          "base_uri": "https://localhost:8080/",
          "height": 1000
        },
        "outputId": "7afe7b89-37e2-44af-dabc-ec1b721565df"
      },
      "source": [
        "# met = keras.metrics.binary_crossentropy(label_smoothing = 0.05)\n",
        "autoencoder.compile(optimizer = 'adam',\n",
        "                    loss = 'binary_crossentropy',\n",
        "                    metrics = ['accuracy'])\n",
        "\n",
        "autoencoder.fit(x_train,x_train,\n",
        "                batch_size = 256,\n",
        "                epochs = 30,\n",
        "                verbose = 2,\n",
        "                validation_data = (x_test, x_test))"
      ],
      "execution_count": 13,
      "outputs": [
        {
          "output_type": "stream",
          "text": [
            "Epoch 1/30\n",
            "235/235 - 1s - loss: 0.3583 - accuracy: 0.0106 - val_loss: 0.3058 - val_accuracy: 0.0151\n",
            "Epoch 2/30\n",
            "235/235 - 1s - loss: 0.2929 - accuracy: 0.0212 - val_loss: 0.2858 - val_accuracy: 0.0236\n",
            "Epoch 3/30\n",
            "235/235 - 1s - loss: 0.2797 - accuracy: 0.0295 - val_loss: 0.2777 - val_accuracy: 0.0306\n",
            "Epoch 4/30\n",
            "235/235 - 1s - loss: 0.2739 - accuracy: 0.0342 - val_loss: 0.2735 - val_accuracy: 0.0356\n",
            "Epoch 5/30\n",
            "235/235 - 1s - loss: 0.2703 - accuracy: 0.0398 - val_loss: 0.2708 - val_accuracy: 0.0393\n",
            "Epoch 6/30\n",
            "235/235 - 1s - loss: 0.2678 - accuracy: 0.0440 - val_loss: 0.2686 - val_accuracy: 0.0447\n",
            "Epoch 7/30\n",
            "235/235 - 1s - loss: 0.2661 - accuracy: 0.0493 - val_loss: 0.2684 - val_accuracy: 0.0507\n",
            "Epoch 8/30\n",
            "235/235 - 1s - loss: 0.2647 - accuracy: 0.0527 - val_loss: 0.2658 - val_accuracy: 0.0541\n",
            "Epoch 9/30\n",
            "235/235 - 1s - loss: 0.2635 - accuracy: 0.0568 - val_loss: 0.2647 - val_accuracy: 0.0548\n",
            "Epoch 10/30\n",
            "235/235 - 1s - loss: 0.2626 - accuracy: 0.0600 - val_loss: 0.2639 - val_accuracy: 0.0585\n",
            "Epoch 11/30\n",
            "235/235 - 1s - loss: 0.2618 - accuracy: 0.0642 - val_loss: 0.2631 - val_accuracy: 0.0632\n",
            "Epoch 12/30\n",
            "235/235 - 1s - loss: 0.2611 - accuracy: 0.0679 - val_loss: 0.2624 - val_accuracy: 0.0684\n",
            "Epoch 13/30\n",
            "235/235 - 1s - loss: 0.2604 - accuracy: 0.0710 - val_loss: 0.2618 - val_accuracy: 0.0731\n",
            "Epoch 14/30\n",
            "235/235 - 1s - loss: 0.2599 - accuracy: 0.0756 - val_loss: 0.2613 - val_accuracy: 0.0773\n",
            "Epoch 15/30\n",
            "235/235 - 1s - loss: 0.2594 - accuracy: 0.0771 - val_loss: 0.2609 - val_accuracy: 0.0809\n",
            "Epoch 16/30\n",
            "235/235 - 1s - loss: 0.2591 - accuracy: 0.0790 - val_loss: 0.2607 - val_accuracy: 0.0800\n",
            "Epoch 17/30\n",
            "235/235 - 1s - loss: 0.2586 - accuracy: 0.0821 - val_loss: 0.2602 - val_accuracy: 0.0824\n",
            "Epoch 18/30\n",
            "235/235 - 1s - loss: 0.2583 - accuracy: 0.0844 - val_loss: 0.2599 - val_accuracy: 0.0857\n",
            "Epoch 19/30\n",
            "235/235 - 1s - loss: 0.2580 - accuracy: 0.0877 - val_loss: 0.2596 - val_accuracy: 0.0871\n",
            "Epoch 20/30\n",
            "235/235 - 1s - loss: 0.2578 - accuracy: 0.0891 - val_loss: 0.2593 - val_accuracy: 0.0898\n",
            "Epoch 21/30\n",
            "235/235 - 1s - loss: 0.2574 - accuracy: 0.0920 - val_loss: 0.2591 - val_accuracy: 0.0926\n",
            "Epoch 22/30\n",
            "235/235 - 1s - loss: 0.2573 - accuracy: 0.0930 - val_loss: 0.2589 - val_accuracy: 0.0923\n",
            "Epoch 23/30\n",
            "235/235 - 1s - loss: 0.2572 - accuracy: 0.0943 - val_loss: 0.2588 - val_accuracy: 0.0962\n",
            "Epoch 24/30\n",
            "235/235 - 1s - loss: 0.2570 - accuracy: 0.0969 - val_loss: 0.2587 - val_accuracy: 0.0950\n",
            "Epoch 25/30\n",
            "235/235 - 1s - loss: 0.2568 - accuracy: 0.0976 - val_loss: 0.2590 - val_accuracy: 0.0961\n",
            "Epoch 26/30\n",
            "235/235 - 1s - loss: 0.2567 - accuracy: 0.0993 - val_loss: 0.2583 - val_accuracy: 0.0936\n",
            "Epoch 27/30\n",
            "235/235 - 1s - loss: 0.2566 - accuracy: 0.1006 - val_loss: 0.2583 - val_accuracy: 0.0972\n",
            "Epoch 28/30\n",
            "235/235 - 1s - loss: 0.2564 - accuracy: 0.1015 - val_loss: 0.2582 - val_accuracy: 0.0978\n",
            "Epoch 29/30\n",
            "235/235 - 1s - loss: 0.2563 - accuracy: 0.1038 - val_loss: 0.2580 - val_accuracy: 0.1010\n",
            "Epoch 30/30\n",
            "235/235 - 1s - loss: 0.2562 - accuracy: 0.1033 - val_loss: 0.2579 - val_accuracy: 0.1016\n"
          ],
          "name": "stdout"
        },
        {
          "output_type": "execute_result",
          "data": {
            "text/plain": [
              "<tensorflow.python.keras.callbacks.History at 0x7f381ba252b0>"
            ]
          },
          "metadata": {
            "tags": []
          },
          "execution_count": 13
        }
      ]
    },
    {
      "cell_type": "code",
      "metadata": {
        "id": "kkG5Zv8XUT8D",
        "colab_type": "code",
        "outputId": "a276a4ec-1c02-4b23-b25c-003424d428b5",
        "colab": {
          "base_uri": "https://localhost:8080/",
          "height": 50
        }
      },
      "source": [
        "score = autoencoder.evaluate(x_test,x_test, verbose=0)\n",
        "print('Test loss:', score[0])\n",
        "print('Test accuracy:', score[1])\n",
        "encoded_imgs_train = encoder.predict(x_train)\n",
        "encoded_imgs_test = encoder.predict(x_test)\n",
        "decoded_imgs_test = decoder.predict(encoded_imgs_test)"
      ],
      "execution_count": 10,
      "outputs": [
        {
          "output_type": "stream",
          "text": [
            "Test loss: 0.25701382756233215\n",
            "Test accuracy: 0.12349999696016312\n"
          ],
          "name": "stdout"
        }
      ]
    },
    {
      "cell_type": "code",
      "metadata": {
        "id": "5zIQvnDpXcoA",
        "colab_type": "code",
        "outputId": "52dc63e2-06b8-46fe-e8d6-1d41bd45c063",
        "colab": {
          "base_uri": "https://localhost:8080/",
          "height": 126
        }
      },
      "source": [
        "plt.figure(figsize=(24, 4))\n",
        "for i in range(12):\n",
        "    # display original\n",
        "    ax = plt.subplot(2, 12, i + 1)\n",
        "    plt.imshow(x_test[i].reshape(28, 28))\n",
        "    plt.gray()\n",
        "    ax.get_xaxis().set_visible(False)\n",
        "    ax.get_yaxis().set_visible(False)\n",
        "\n",
        "    # display reconstruction\n",
        "    ax = plt.subplot(2, 12, i + 1 + 12)\n",
        "    plt.imshow(decoded_imgs_test[i].reshape(28, 28))\n",
        "    plt.gray()\n",
        "    ax.get_xaxis().set_visible(False)\n",
        "    ax.get_yaxis().set_visible(False)\n",
        "plt.show()"
      ],
      "execution_count": 11,
      "outputs": [
        {
          "output_type": "display_data",
          "data": {
            "image/png": "[encoded data removed]",
            "text/plain": [
              "<Figure size 1728x288 with 24 Axes>"
            ]
          },
          "metadata": {
            "tags": []
          }
        }
      ]
    },
    {
      "cell_type": "code",
      "metadata": {
        "id": "HXNSy5lhZNSP",
        "colab_type": "code",
        "colab": {}
      },
      "source": [
        "from tensorflow.keras.models import Sequential\n",
        "from tensorflow.keras.layers import Dense\n",
        "\n",
        "fashion_classifier = Sequential()\n",
        "fashion_classifier.add(Dense(256,\n",
        "                             activation = 'relu',\n",
        "                             input_shape = (reduced_dim,)))\n",
        "fashion_classifier.add(Dense(256,\n",
        "                             activation = 'relu'))\n",
        "fashion_classifier.add(Dense(10,\n",
        "                            activation = 'softmax'))\n",
        "\n",
        "opt = keras.optimizers.Adam(lr = 0.001)\n",
        "fashion_classifier.compile(opt,\n",
        "                           loss = 'sparse_categorical_crossentropy',\n",
        "                           metrics = ['accuracy'])\n",
        "\n",
        "\n"
      ],
      "execution_count": 0,
      "outputs": []
    },
    {
      "cell_type": "code",
      "metadata": {
        "id": "ar0kZBK_OnPl",
        "colab_type": "code",
        "outputId": "015c38fb-3742-4c5c-a571-dd7ec6a5aac1",
        "colab": {
          "base_uri": "https://localhost:8080/",
          "height": 1000
        }
      },
      "source": [
        "net = fashion_classifier.fit(encoded_imgs_train, y_train,\n",
        "                       batch_size = 250,\n",
        "                       validation_split = 0.2,\n",
        "                       epochs = 50,\n",
        "                       verbose = 2)"
      ],
      "execution_count": 16,
      "outputs": [
        {
          "output_type": "stream",
          "text": [
            "Epoch 1/50\n",
            "192/192 - 0s - loss: 0.5845 - accuracy: 0.7942 - val_loss: 0.4363 - val_accuracy: 0.8443\n",
            "Epoch 2/50\n",
            "192/192 - 0s - loss: 0.4050 - accuracy: 0.8529 - val_loss: 0.3857 - val_accuracy: 0.8599\n",
            "Epoch 3/50\n",
            "192/192 - 0s - loss: 0.3638 - accuracy: 0.8682 - val_loss: 0.3858 - val_accuracy: 0.8562\n",
            "Epoch 4/50\n",
            "192/192 - 1s - loss: 0.3417 - accuracy: 0.8749 - val_loss: 0.3709 - val_accuracy: 0.8622\n",
            "Epoch 5/50\n",
            "192/192 - 0s - loss: 0.3200 - accuracy: 0.8823 - val_loss: 0.3321 - val_accuracy: 0.8772\n",
            "Epoch 6/50\n",
            "192/192 - 0s - loss: 0.3058 - accuracy: 0.8874 - val_loss: 0.3237 - val_accuracy: 0.8793\n",
            "Epoch 7/50\n",
            "192/192 - 0s - loss: 0.2932 - accuracy: 0.8908 - val_loss: 0.3380 - val_accuracy: 0.8772\n",
            "Epoch 8/50\n",
            "192/192 - 0s - loss: 0.2794 - accuracy: 0.8961 - val_loss: 0.3119 - val_accuracy: 0.8824\n",
            "Epoch 9/50\n",
            "192/192 - 0s - loss: 0.2629 - accuracy: 0.9026 - val_loss: 0.3185 - val_accuracy: 0.8827\n",
            "Epoch 10/50\n",
            "192/192 - 0s - loss: 0.2614 - accuracy: 0.9026 - val_loss: 0.3269 - val_accuracy: 0.8809\n",
            "Epoch 11/50\n",
            "192/192 - 0s - loss: 0.2515 - accuracy: 0.9061 - val_loss: 0.3003 - val_accuracy: 0.8914\n",
            "Epoch 12/50\n",
            "192/192 - 0s - loss: 0.2358 - accuracy: 0.9118 - val_loss: 0.3061 - val_accuracy: 0.8859\n",
            "Epoch 13/50\n",
            "192/192 - 0s - loss: 0.2371 - accuracy: 0.9121 - val_loss: 0.3001 - val_accuracy: 0.8887\n",
            "Epoch 14/50\n",
            "192/192 - 0s - loss: 0.2198 - accuracy: 0.9173 - val_loss: 0.2955 - val_accuracy: 0.8900\n",
            "Epoch 15/50\n",
            "192/192 - 0s - loss: 0.2187 - accuracy: 0.9174 - val_loss: 0.3146 - val_accuracy: 0.8852\n",
            "Epoch 16/50\n",
            "192/192 - 0s - loss: 0.2093 - accuracy: 0.9214 - val_loss: 0.3008 - val_accuracy: 0.8929\n",
            "Epoch 17/50\n",
            "192/192 - 0s - loss: 0.2044 - accuracy: 0.9224 - val_loss: 0.3287 - val_accuracy: 0.8872\n",
            "Epoch 18/50\n",
            "192/192 - 0s - loss: 0.1915 - accuracy: 0.9285 - val_loss: 0.3192 - val_accuracy: 0.8859\n",
            "Epoch 19/50\n",
            "192/192 - 0s - loss: 0.1860 - accuracy: 0.9292 - val_loss: 0.2968 - val_accuracy: 0.8938\n",
            "Epoch 20/50\n",
            "192/192 - 0s - loss: 0.1831 - accuracy: 0.9309 - val_loss: 0.3176 - val_accuracy: 0.8867\n",
            "Epoch 21/50\n",
            "192/192 - 0s - loss: 0.1756 - accuracy: 0.9341 - val_loss: 0.2958 - val_accuracy: 0.8931\n",
            "Epoch 22/50\n",
            "192/192 - 0s - loss: 0.1705 - accuracy: 0.9354 - val_loss: 0.3034 - val_accuracy: 0.8928\n",
            "Epoch 23/50\n",
            "192/192 - 0s - loss: 0.1654 - accuracy: 0.9359 - val_loss: 0.3190 - val_accuracy: 0.8941\n",
            "Epoch 24/50\n",
            "192/192 - 0s - loss: 0.1613 - accuracy: 0.9394 - val_loss: 0.3149 - val_accuracy: 0.8920\n",
            "Epoch 25/50\n",
            "192/192 - 0s - loss: 0.1549 - accuracy: 0.9416 - val_loss: 0.3096 - val_accuracy: 0.8949\n",
            "Epoch 26/50\n",
            "192/192 - 0s - loss: 0.1469 - accuracy: 0.9448 - val_loss: 0.3313 - val_accuracy: 0.8882\n",
            "Epoch 27/50\n",
            "192/192 - 0s - loss: 0.1472 - accuracy: 0.9451 - val_loss: 0.3244 - val_accuracy: 0.8937\n",
            "Epoch 28/50\n",
            "192/192 - 0s - loss: 0.1364 - accuracy: 0.9477 - val_loss: 0.3423 - val_accuracy: 0.8890\n",
            "Epoch 29/50\n",
            "192/192 - 0s - loss: 0.1310 - accuracy: 0.9501 - val_loss: 0.3323 - val_accuracy: 0.8892\n",
            "Epoch 30/50\n",
            "192/192 - 0s - loss: 0.1266 - accuracy: 0.9524 - val_loss: 0.3232 - val_accuracy: 0.8937\n",
            "Epoch 31/50\n",
            "192/192 - 0s - loss: 0.1260 - accuracy: 0.9532 - val_loss: 0.3379 - val_accuracy: 0.8898\n",
            "Epoch 32/50\n",
            "192/192 - 0s - loss: 0.1215 - accuracy: 0.9539 - val_loss: 0.3529 - val_accuracy: 0.8903\n",
            "Epoch 33/50\n",
            "192/192 - 0s - loss: 0.1105 - accuracy: 0.9600 - val_loss: 0.3601 - val_accuracy: 0.8922\n",
            "Epoch 34/50\n",
            "192/192 - 0s - loss: 0.1109 - accuracy: 0.9582 - val_loss: 0.3613 - val_accuracy: 0.8951\n",
            "Epoch 35/50\n",
            "192/192 - 0s - loss: 0.1052 - accuracy: 0.9609 - val_loss: 0.3528 - val_accuracy: 0.8933\n",
            "Epoch 36/50\n",
            "192/192 - 0s - loss: 0.1047 - accuracy: 0.9611 - val_loss: 0.3575 - val_accuracy: 0.8942\n",
            "Epoch 37/50\n",
            "192/192 - 0s - loss: 0.0989 - accuracy: 0.9634 - val_loss: 0.3894 - val_accuracy: 0.8880\n",
            "Epoch 38/50\n",
            "192/192 - 0s - loss: 0.0931 - accuracy: 0.9647 - val_loss: 0.3808 - val_accuracy: 0.8911\n",
            "Epoch 39/50\n",
            "192/192 - 0s - loss: 0.0926 - accuracy: 0.9650 - val_loss: 0.3706 - val_accuracy: 0.8922\n",
            "Epoch 40/50\n",
            "192/192 - 0s - loss: 0.0892 - accuracy: 0.9660 - val_loss: 0.3679 - val_accuracy: 0.8938\n",
            "Epoch 41/50\n",
            "192/192 - 0s - loss: 0.0886 - accuracy: 0.9666 - val_loss: 0.3778 - val_accuracy: 0.8926\n",
            "Epoch 42/50\n",
            "192/192 - 0s - loss: 0.0832 - accuracy: 0.9690 - val_loss: 0.3784 - val_accuracy: 0.8929\n",
            "Epoch 43/50\n",
            "192/192 - 0s - loss: 0.0772 - accuracy: 0.9716 - val_loss: 0.3860 - val_accuracy: 0.8934\n",
            "Epoch 44/50\n",
            "192/192 - 0s - loss: 0.0713 - accuracy: 0.9739 - val_loss: 0.4089 - val_accuracy: 0.8898\n",
            "Epoch 45/50\n",
            "192/192 - 0s - loss: 0.0755 - accuracy: 0.9725 - val_loss: 0.4044 - val_accuracy: 0.8943\n",
            "Epoch 46/50\n",
            "192/192 - 0s - loss: 0.0746 - accuracy: 0.9722 - val_loss: 0.4173 - val_accuracy: 0.8953\n",
            "Epoch 47/50\n",
            "192/192 - 0s - loss: 0.0676 - accuracy: 0.9749 - val_loss: 0.4075 - val_accuracy: 0.8913\n",
            "Epoch 48/50\n",
            "192/192 - 0s - loss: 0.0661 - accuracy: 0.9760 - val_loss: 0.4178 - val_accuracy: 0.8903\n",
            "Epoch 49/50\n",
            "192/192 - 0s - loss: 0.0663 - accuracy: 0.9754 - val_loss: 0.4168 - val_accuracy: 0.8959\n",
            "Epoch 50/50\n",
            "192/192 - 0s - loss: 0.0582 - accuracy: 0.9787 - val_loss: 0.4251 - val_accuracy: 0.8932\n"
          ],
          "name": "stdout"
        }
      ]
    },
    {
      "cell_type": "code",
      "metadata": {
        "id": "qKEyLRjyOqOd",
        "colab_type": "code",
        "outputId": "37577830-fae8-4e6f-c107-782fc4c6232b",
        "colab": {
          "base_uri": "https://localhost:8080/",
          "height": 87
        }
      },
      "source": [
        "test_loss, test_acc = fashion_classifier.evaluate(encoded_imgs_test,  y_test)\n",
        "print(f\"\"\"Test loss: {test_loss}\n",
        "Test accuracy: {test_acc}\"\"\")"
      ],
      "execution_count": 18,
      "outputs": [
        {
          "output_type": "stream",
          "text": [
            "313/313 [==============================] - 1s 2ms/step - loss: 0.4889 - accuracy: 0.8887\n",
            "Test loss: 0.48892587423324585\n",
            "Test accuracy: 0.888700008392334\n"
          ],
          "name": "stdout"
        }
      ]
    },
    {
      "cell_type": "code",
      "metadata": {
        "id": "rN1oPlbYQj_L",
        "colab_type": "code",
        "outputId": "15f4b723-6f11-4a07-b12c-1955b69b5089",
        "colab": {
          "base_uri": "https://localhost:8080/",
          "height": 279
        }
      },
      "source": [
        "from sklearn.decomposition import PCA\n",
        "\n",
        "decomposed_data = PCA(reduced_dim)\n",
        "decomposed_data.fit(x_train)\n",
        "plt.plot(np.cumsum(decomposed_data.explained_variance_ratio_))\n",
        "plt.xlabel('Number of components')\n",
        "plt.ylabel('Cumulative explained variance')\n",
        "plt.grid()"
      ],
      "execution_count": 19,
      "outputs": [
        {
          "output_type": "display_data",
          "data": {
            "image/png": "[encoded data removed]",
            "text/plain": [
              "<Figure size 432x288 with 1 Axes>"
            ]
          },
          "metadata": {
            "tags": []
          }
        }
      ]
    },
    {
      "cell_type": "code",
      "metadata": {
        "id": "e6JxR984RviD",
        "colab_type": "code",
        "colab": {}
      },
      "source": [
        "pca_train = decomposed_data.transform(x_train)\n",
        "pca_test = decomposed_data.transform(x_test)"
      ],
      "execution_count": 0,
      "outputs": []
    },
    {
      "cell_type": "code",
      "metadata": {
        "id": "s6Rr5WAwSGQ5",
        "colab_type": "code",
        "outputId": "f72e9342-f510-411b-e2a2-ab621807993f",
        "colab": {
          "base_uri": "https://localhost:8080/",
          "height": 1000
        }
      },
      "source": [
        "from tensorflow.keras.models import Sequential\n",
        "from tensorflow.keras.layers import Dense\n",
        "fashion_classifier = Sequential()\n",
        "fashion_classifier.add(Dense(256,\n",
        "                             activation = 'relu',\n",
        "                             input_shape = (reduced_dim,)))\n",
        "fashion_classifier.add(Dense(256,\n",
        "                             activation = 'relu'))\n",
        "fashion_classifier.add(Dense(10,\n",
        "                            activation = 'softmax'))\n",
        "\n",
        "opt = keras.optimizers.Adam(lr = 0.001)\n",
        "fashion_classifier.compile(opt,\n",
        "                           loss = 'sparse_categorical_crossentropy',\n",
        "                           metrics = ['accuracy'])\n",
        "\n",
        "net = fashion_classifier.fit(pca_train, y_train,\n",
        "                       batch_size = 250,\n",
        "                       validation_split = 0.2,\n",
        "                       epochs = 50,\n",
        "                       verbose = 2)"
      ],
      "execution_count": 21,
      "outputs": [
        {
          "output_type": "stream",
          "text": [
            "Epoch 1/50\n",
            "192/192 - 1s - loss: 0.5309 - accuracy: 0.8197 - val_loss: 0.3758 - val_accuracy: 0.8656\n",
            "Epoch 2/50\n",
            "192/192 - 0s - loss: 0.3291 - accuracy: 0.8823 - val_loss: 0.3330 - val_accuracy: 0.8808\n",
            "Epoch 3/50\n",
            "192/192 - 0s - loss: 0.2830 - accuracy: 0.8979 - val_loss: 0.3170 - val_accuracy: 0.8858\n",
            "Epoch 4/50\n",
            "192/192 - 0s - loss: 0.2483 - accuracy: 0.9106 - val_loss: 0.3103 - val_accuracy: 0.8867\n",
            "Epoch 5/50\n",
            "192/192 - 0s - loss: 0.2223 - accuracy: 0.9188 - val_loss: 0.3046 - val_accuracy: 0.8907\n",
            "Epoch 6/50\n",
            "192/192 - 0s - loss: 0.1954 - accuracy: 0.9298 - val_loss: 0.3044 - val_accuracy: 0.8932\n",
            "Epoch 7/50\n",
            "192/192 - 0s - loss: 0.1761 - accuracy: 0.9365 - val_loss: 0.3149 - val_accuracy: 0.8887\n",
            "Epoch 8/50\n",
            "192/192 - 0s - loss: 0.1546 - accuracy: 0.9443 - val_loss: 0.3122 - val_accuracy: 0.8932\n",
            "Epoch 9/50\n",
            "192/192 - 0s - loss: 0.1370 - accuracy: 0.9512 - val_loss: 0.3311 - val_accuracy: 0.8907\n",
            "Epoch 10/50\n",
            "192/192 - 0s - loss: 0.1218 - accuracy: 0.9579 - val_loss: 0.3425 - val_accuracy: 0.8909\n",
            "Epoch 11/50\n",
            "192/192 - 0s - loss: 0.1060 - accuracy: 0.9629 - val_loss: 0.3436 - val_accuracy: 0.8931\n",
            "Epoch 12/50\n",
            "192/192 - 0s - loss: 0.0931 - accuracy: 0.9682 - val_loss: 0.3637 - val_accuracy: 0.8878\n",
            "Epoch 13/50\n",
            "192/192 - 0s - loss: 0.0797 - accuracy: 0.9735 - val_loss: 0.3876 - val_accuracy: 0.8893\n",
            "Epoch 14/50\n",
            "192/192 - 0s - loss: 0.0704 - accuracy: 0.9770 - val_loss: 0.4000 - val_accuracy: 0.8900\n",
            "Epoch 15/50\n",
            "192/192 - 0s - loss: 0.0619 - accuracy: 0.9794 - val_loss: 0.4277 - val_accuracy: 0.8878\n",
            "Epoch 16/50\n",
            "192/192 - 0s - loss: 0.0529 - accuracy: 0.9831 - val_loss: 0.4489 - val_accuracy: 0.8861\n",
            "Epoch 17/50\n",
            "192/192 - 0s - loss: 0.0466 - accuracy: 0.9854 - val_loss: 0.4539 - val_accuracy: 0.8923\n",
            "Epoch 18/50\n",
            "192/192 - 0s - loss: 0.0387 - accuracy: 0.9880 - val_loss: 0.5008 - val_accuracy: 0.8842\n",
            "Epoch 19/50\n",
            "192/192 - 0s - loss: 0.0368 - accuracy: 0.9881 - val_loss: 0.4985 - val_accuracy: 0.8882\n",
            "Epoch 20/50\n",
            "192/192 - 0s - loss: 0.0270 - accuracy: 0.9929 - val_loss: 0.5343 - val_accuracy: 0.8851\n",
            "Epoch 21/50\n",
            "192/192 - 0s - loss: 0.0224 - accuracy: 0.9943 - val_loss: 0.5605 - val_accuracy: 0.8842\n",
            "Epoch 22/50\n",
            "192/192 - 0s - loss: 0.0201 - accuracy: 0.9946 - val_loss: 0.5829 - val_accuracy: 0.8835\n",
            "Epoch 23/50\n",
            "192/192 - 0s - loss: 0.0181 - accuracy: 0.9953 - val_loss: 0.5733 - val_accuracy: 0.8864\n",
            "Epoch 24/50\n",
            "192/192 - 0s - loss: 0.0169 - accuracy: 0.9952 - val_loss: 0.6175 - val_accuracy: 0.8852\n",
            "Epoch 25/50\n",
            "192/192 - 0s - loss: 0.0170 - accuracy: 0.9953 - val_loss: 0.6415 - val_accuracy: 0.8858\n",
            "Epoch 26/50\n",
            "192/192 - 0s - loss: 0.0219 - accuracy: 0.9930 - val_loss: 0.6583 - val_accuracy: 0.8837\n",
            "Epoch 27/50\n",
            "192/192 - 0s - loss: 0.0227 - accuracy: 0.9923 - val_loss: 0.6607 - val_accuracy: 0.8863\n",
            "Epoch 28/50\n",
            "192/192 - 0s - loss: 0.0147 - accuracy: 0.9958 - val_loss: 0.6824 - val_accuracy: 0.8832\n",
            "Epoch 29/50\n",
            "192/192 - 0s - loss: 0.0086 - accuracy: 0.9984 - val_loss: 0.6845 - val_accuracy: 0.8852\n",
            "Epoch 30/50\n",
            "192/192 - 0s - loss: 0.0040 - accuracy: 0.9997 - val_loss: 0.6968 - val_accuracy: 0.8874\n",
            "Epoch 31/50\n",
            "192/192 - 0s - loss: 0.0022 - accuracy: 1.0000 - val_loss: 0.6987 - val_accuracy: 0.8898\n",
            "Epoch 32/50\n",
            "192/192 - 0s - loss: 0.0014 - accuracy: 1.0000 - val_loss: 0.7183 - val_accuracy: 0.8898\n",
            "Epoch 33/50\n",
            "192/192 - 0s - loss: 0.0011 - accuracy: 1.0000 - val_loss: 0.7345 - val_accuracy: 0.8898\n",
            "Epoch 34/50\n",
            "192/192 - 0s - loss: 9.6222e-04 - accuracy: 1.0000 - val_loss: 0.7422 - val_accuracy: 0.8903\n",
            "Epoch 35/50\n",
            "192/192 - 0s - loss: 8.3752e-04 - accuracy: 1.0000 - val_loss: 0.7525 - val_accuracy: 0.8892\n",
            "Epoch 36/50\n",
            "192/192 - 0s - loss: 7.3127e-04 - accuracy: 1.0000 - val_loss: 0.7656 - val_accuracy: 0.8904\n",
            "Epoch 37/50\n",
            "192/192 - 0s - loss: 6.4362e-04 - accuracy: 1.0000 - val_loss: 0.7785 - val_accuracy: 0.8900\n",
            "Epoch 38/50\n",
            "192/192 - 0s - loss: 5.7466e-04 - accuracy: 1.0000 - val_loss: 0.7900 - val_accuracy: 0.8898\n",
            "Epoch 39/50\n",
            "192/192 - 0s - loss: 5.2583e-04 - accuracy: 1.0000 - val_loss: 0.7975 - val_accuracy: 0.8892\n",
            "Epoch 40/50\n",
            "192/192 - 0s - loss: 4.6551e-04 - accuracy: 1.0000 - val_loss: 0.8083 - val_accuracy: 0.8897\n",
            "Epoch 41/50\n",
            "192/192 - 0s - loss: 4.2030e-04 - accuracy: 1.0000 - val_loss: 0.8207 - val_accuracy: 0.8888\n",
            "Epoch 42/50\n",
            "192/192 - 0s - loss: 3.6798e-04 - accuracy: 1.0000 - val_loss: 0.8319 - val_accuracy: 0.8893\n",
            "Epoch 43/50\n",
            "192/192 - 0s - loss: 3.3172e-04 - accuracy: 1.0000 - val_loss: 0.8437 - val_accuracy: 0.8887\n",
            "Epoch 44/50\n",
            "192/192 - 0s - loss: 3.0340e-04 - accuracy: 1.0000 - val_loss: 0.8544 - val_accuracy: 0.8891\n",
            "Epoch 45/50\n",
            "192/192 - 0s - loss: 2.7379e-04 - accuracy: 1.0000 - val_loss: 0.8647 - val_accuracy: 0.8892\n",
            "Epoch 46/50\n",
            "192/192 - 0s - loss: 2.3658e-04 - accuracy: 1.0000 - val_loss: 0.8766 - val_accuracy: 0.8883\n",
            "Epoch 47/50\n",
            "192/192 - 0s - loss: 2.1473e-04 - accuracy: 1.0000 - val_loss: 0.8868 - val_accuracy: 0.8879\n",
            "Epoch 48/50\n",
            "192/192 - 0s - loss: 1.9060e-04 - accuracy: 1.0000 - val_loss: 0.8965 - val_accuracy: 0.8876\n",
            "Epoch 49/50\n",
            "192/192 - 0s - loss: 1.7112e-04 - accuracy: 1.0000 - val_loss: 0.9070 - val_accuracy: 0.8889\n",
            "Epoch 50/50\n",
            "192/192 - 0s - loss: 1.5807e-04 - accuracy: 1.0000 - val_loss: 0.9194 - val_accuracy: 0.8888\n"
          ],
          "name": "stdout"
        }
      ]
    },
    {
      "cell_type": "code",
      "metadata": {
        "id": "3PwThg9uSXH2",
        "colab_type": "code",
        "outputId": "669d3054-5f37-41c4-a5a4-422bab34231f",
        "colab": {
          "base_uri": "https://localhost:8080/",
          "height": 67
        }
      },
      "source": [
        "test_loss, test_acc = fashion_classifier.evaluate(pca_test, y_test, batch_size=256, verbose=2)\n",
        "print(f\"\"\"Test loss: {test_loss}\n",
        "Test acc: {test_acc}\"\"\")\n"
      ],
      "execution_count": 22,
      "outputs": [
        {
          "output_type": "stream",
          "text": [
            "40/40 - 0s - loss: 0.9341 - accuracy: 0.8865\n",
            "Test loss: 0.9341319799423218\n",
            "Test acc: 0.8865000009536743\n"
          ],
          "name": "stdout"
        }
      ]
    },
    {
      "cell_type": "code",
      "metadata": {
        "id": "xYnlZUhMT6dA",
        "colab_type": "code",
        "outputId": "51e1dd10-8f59-48b6-e7c5-bab5f17f075e",
        "colab": {
          "base_uri": "https://localhost:8080/",
          "height": 50
        }
      },
      "source": [
        "p = fashion_classifier.predict(pca_test)\n",
        "print(y_test[:20])\n",
        "print(np.argmax(p, axis = 1)[:20])"
      ],
      "execution_count": 23,
      "outputs": [
        {
          "output_type": "stream",
          "text": [
            "[9 2 1 1 6 1 4 6 5 7 4 5 7 3 4 1 2 4 8 0]\n",
            "[9 2 1 1 6 1 4 6 5 7 4 5 8 3 4 1 2 4 8 0]\n"
          ],
          "name": "stdout"
        }
      ]
    },
    {
      "cell_type": "code",
      "metadata": {
        "id": "W4wPyk4hXdYQ",
        "colab_type": "code",
        "outputId": "acbe97f3-413b-432f-e536-6ba43062f697",
        "colab": {
          "base_uri": "https://localhost:8080/",
          "height": 185
        }
      },
      "source": [
        "from sklearn.neural_network import BernoulliRBM\n",
        "\n",
        "rbm = BernoulliRBM(n_components=reduced_dim, learning_rate=0.01, random_state=0, verbose=True)\n",
        "rbm_output=rbm.fit(x_train)"
      ],
      "execution_count": 0,
      "outputs": [
        {
          "output_type": "stream",
          "text": [
            "[BernoulliRBM] Iteration 1, pseudo-likelihood = -224.70, time = 28.87s\n",
            "[BernoulliRBM] Iteration 2, pseudo-likelihood = -209.28, time = 32.42s\n",
            "[BernoulliRBM] Iteration 3, pseudo-likelihood = -205.50, time = 32.20s\n",
            "[BernoulliRBM] Iteration 4, pseudo-likelihood = -199.16, time = 32.37s\n",
            "[BernoulliRBM] Iteration 5, pseudo-likelihood = -195.53, time = 32.33s\n",
            "[BernoulliRBM] Iteration 6, pseudo-likelihood = -197.95, time = 32.22s\n",
            "[BernoulliRBM] Iteration 7, pseudo-likelihood = -195.23, time = 32.37s\n",
            "[BernoulliRBM] Iteration 8, pseudo-likelihood = -194.76, time = 32.27s\n",
            "[BernoulliRBM] Iteration 9, pseudo-likelihood = -193.83, time = 32.19s\n",
            "[BernoulliRBM] Iteration 10, pseudo-likelihood = -194.62, time = 32.11s\n"
          ],
          "name": "stdout"
        }
      ]
    },
    {
      "cell_type": "code",
      "metadata": {
        "id": "TlnYEzb9YNaA",
        "colab_type": "code",
        "colab": {}
      },
      "source": [
        "rbm_train = rbm_output.transform(x_train)\n",
        "rbm_test = rbm_output.transform(x_test)"
      ],
      "execution_count": 0,
      "outputs": []
    },
    {
      "cell_type": "code",
      "metadata": {
        "id": "Lp5yH7WDYpy-",
        "colab_type": "code",
        "outputId": "990d122b-d47d-401d-9248-8fcbf00e66ef",
        "colab": {
          "base_uri": "https://localhost:8080/",
          "height": 538
        }
      },
      "source": [
        "fashion_classifier = Sequential()\n",
        "fashion_classifier.add(Dense(256,\n",
        "                             activation = 'relu',\n",
        "                             input_shape = (reduced_dim,)))\n",
        "fashion_classifier.add(Dense(256,\n",
        "                             activation = 'relu'))\n",
        "fashion_classifier.add(Dense(10,\n",
        "                            activation = 'softmax'))\n",
        "\n",
        "opt = keras.optimizers.Adam(lr = 0.001)\n",
        "fashion_classifier.compile(opt,\n",
        "                           loss = 'sparse_categorical_crossentropy',\n",
        "                           metrics = ['accuracy'])\n",
        "\n",
        "net = fashion_classifier.fit(rbm_train, y_train,\n",
        "                       batch_size = 250,\n",
        "                       validation_split = 0.2,\n",
        "                       epochs = 50,\n",
        "                       verbose = 2)"
      ],
      "execution_count": 0,
      "outputs": [
        {
          "output_type": "stream",
          "text": [
            "Train on 48000 samples, validate on 12000 samples\n",
            "Epoch 1/15\n",
            " - 1s - loss: 0.5815 - acc: 0.7910 - val_loss: 0.4393 - val_acc: 0.8328\n",
            "Epoch 2/15\n",
            " - 1s - loss: 0.4188 - acc: 0.8459 - val_loss: 0.4189 - val_acc: 0.8442\n",
            "Epoch 3/15\n",
            " - 1s - loss: 0.3929 - acc: 0.8529 - val_loss: 0.3939 - val_acc: 0.8508\n",
            "Epoch 4/15\n",
            " - 1s - loss: 0.3759 - acc: 0.8599 - val_loss: 0.3815 - val_acc: 0.8578\n",
            "Epoch 5/15\n",
            " - 1s - loss: 0.3642 - acc: 0.8634 - val_loss: 0.3757 - val_acc: 0.8608\n",
            "Epoch 6/15\n",
            " - 1s - loss: 0.3540 - acc: 0.8659 - val_loss: 0.3669 - val_acc: 0.8646\n",
            "Epoch 7/15\n",
            " - 1s - loss: 0.3510 - acc: 0.8673 - val_loss: 0.3630 - val_acc: 0.8642\n",
            "Epoch 8/15\n",
            " - 1s - loss: 0.3383 - acc: 0.8720 - val_loss: 0.3599 - val_acc: 0.8663\n",
            "Epoch 9/15\n",
            " - 1s - loss: 0.3327 - acc: 0.8738 - val_loss: 0.3719 - val_acc: 0.8581\n",
            "Epoch 10/15\n",
            " - 1s - loss: 0.3252 - acc: 0.8762 - val_loss: 0.3552 - val_acc: 0.8676\n",
            "Epoch 11/15\n",
            " - 1s - loss: 0.3192 - acc: 0.8789 - val_loss: 0.3502 - val_acc: 0.8673\n",
            "Epoch 12/15\n",
            " - 1s - loss: 0.3170 - acc: 0.8790 - val_loss: 0.3462 - val_acc: 0.8697\n",
            "Epoch 13/15\n",
            " - 1s - loss: 0.3108 - acc: 0.8812 - val_loss: 0.3518 - val_acc: 0.8658\n",
            "Epoch 14/15\n",
            " - 1s - loss: 0.3031 - acc: 0.8846 - val_loss: 0.3450 - val_acc: 0.8695\n",
            "Epoch 15/15\n",
            " - 1s - loss: 0.3002 - acc: 0.8857 - val_loss: 0.3417 - val_acc: 0.8722\n"
          ],
          "name": "stdout"
        }
      ]
    },
    {
      "cell_type": "code",
      "metadata": {
        "id": "dVzDbGbHYyY0",
        "colab_type": "code",
        "outputId": "6e3b5511-b219-41b2-c5f1-c7a542c71330",
        "colab": {
          "base_uri": "https://localhost:8080/",
          "height": 50
        }
      },
      "source": [
        "test_loss, test_acc = fashion_classifier.evaluate(rbm_test, y_test, batch_size=256, verbose=2)\n",
        "print(f\"\"\"Test loss: {test_loss}\n",
        "Test acc: {test_acc}\"\"\")\n"
      ],
      "execution_count": 0,
      "outputs": [
        {
          "output_type": "stream",
          "text": [
            "Test loss: 0.36771408627033236\n",
            "Test acc: 0.8632\n"
          ],
          "name": "stdout"
        }
      ]
    }
  ]
}