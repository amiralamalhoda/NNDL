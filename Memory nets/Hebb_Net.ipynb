{
 "cells": [
  {
   "cell_type": "code",
   "execution_count": 6,
   "metadata": {},
   "outputs": [],
   "source": [
    "import numpy as np\n",
    "import matplotlib.pyplot as plt\n",
    "\n",
    "class HebbMemoryNetwork:\n",
    "    def __init__(self):\n",
    "        self.a_in = -1 * np.ones((9, 7))\n",
    "        self.a_in[-1, 0] = self.a_in[-2, 0] = self.a_in[-3, 1] = self.a_in[-4, 1] = self.a_in[2:5, 2] = self.a_in[0:2, 3] = self.a_in[4, 3] = self.a_in[2:5, 4] = self.a_in[5:7, -2] = self.a_in[7:9, -1] = 1\n",
    "        self.a_out = np.ones((5, 3))\n",
    "        self.a_out[0, 0] = self.a_out[1, 1] = self.a_out[0, 2] = self.a_out[3:5, 1] = -1\n",
    "        self.b_in = -1 * np.ones((9, 7))\n",
    "        self.b_in[:, 0] = self.b_in[0, 0:5] = self.b_in[1, -2] = self.b_in[2, -1] = self.b_in[3, -2] = self.b_in[4, 0:5] = self.b_in[5, -2] = self.b_in[6, -1] = self.b_in[7, -2] = self.b_in[-1, 0:5] = 1\n",
    "        self.b_out = np.ones((5, 3))\n",
    "        self.b_out[0, 2] = self.b_out[1, 1] = self.b_out[2, 2] = self.b_out[3, 1] = self.b_out[4, 2] = -1\n",
    "        self.c_in = -1 * np.ones((9, 7))\n",
    "        self.c_in[0, 2:5] = self.c_in[1, 1] = self.c_in[1, -2] = self.c_in[2, -1] = self.c_in[2:7, 0] = self.c_in[-3, -1] = self.c_in[-2, 1] = self.c_in[-2, -2] = self.c_in[-1, 2:5] = 1\n",
    "        self.c_out = np.ones((5, 3))\n",
    "        self.c_out[1:4, 1:3] = -1\n",
    "\n",
    "        self.w = self.calculate_weights()\n",
    "\n",
    "    def calculate_weights(self):\n",
    "        a_in_flat = self.a_in.reshape((63, 1))\n",
    "        a_out_flat = self.a_out.reshape((15, 1))\n",
    "        b_in_flat = self.b_in.reshape((63, 1))\n",
    "        b_out_flat = self.b_out.reshape((15, 1))\n",
    "        c_in_flat = self.c_in.reshape((63, 1))\n",
    "        c_out_flat = self.c_out.reshape((15, 1))\n",
    "\n",
    "        weights = a_in_flat @ a_out_flat.T + b_in_flat @ b_out_flat.T + c_in_flat @ c_out_flat.T\n",
    "        return weights\n",
    "\n",
    "    def test_pattern(self, pattern):\n",
    "        pattern_flat = pattern.reshape((63, 1))\n",
    "        output = np.sign(pattern_flat.T @ self.w)\n",
    "        return np.reshape(output, (5, 3))\n",
    "\n",
    "    def generate_noisy_pattern(self, pattern, noise_level):\n",
    "        noisy_pattern = pattern.copy()\n",
    "        num_noise_bits = int(noise_level * 63)\n",
    "        noisy_indices = np.random.choice(63, num_noise_bits, replace=False)\n",
    "        \n",
    "        for i in noisy_indices:\n",
    "            noisy_pattern[i//7][i%7] = -pattern[i//7][i%7]\n",
    "        \n",
    "        return noisy_pattern\n",
    "\n",
    "    def evaluate_pattern(self, original_pattern, output_pattern):\n",
    "        error = output_pattern - original_pattern\n",
    "        return (error == 0).all()\n",
    "    \n",
    "    def visualize_memory(self):\n",
    "        plt.subplot(3, 2, 1)\n",
    "        plt.imshow(self.a_in)\n",
    "        plt.subplot(3, 2, 2)\n",
    "        plt.imshow(self.a_out)\n",
    "        plt.subplot(3, 2, 3)\n",
    "        plt.imshow(self.b_in)\n",
    "        plt.subplot(3, 2, 4)\n",
    "        plt.imshow(self.b_out)\n",
    "        plt.subplot(3, 2, 5)\n",
    "        plt.imshow(self.c_in)\n",
    "        plt.subplot(3, 2, 6)\n",
    "        plt.imshow(self.c_out)\n",
    "        \n"
   ]
  },
  {
   "cell_type": "code",
   "execution_count": 8,
   "metadata": {},
   "outputs": [
    {
     "name": "stdout",
     "output_type": "stream",
     "text": [
      "Reconstruction success rate for Letters (A, B, C) with 20% noise in input: (1.0, 0.97, 0.92)\n",
      "Reconstruction success rate for Letters (A, B, C) with 25% noise in input: (0.99, 0.97, 0.86)\n",
      "Reconstruction success rate for Letters (A, B, C) with 30% noise in input: (0.96, 0.81, 0.82)\n",
      "Reconstruction success rate for Letters (A, B, C) with 35% noise in input: (0.86, 0.63, 0.69)\n",
      "Reconstruction success rate for Letters (A, B, C) with 40% noise in input: (0.57, 0.51, 0.47)\n"
     ]
    },
    {
     "data": {
      "image/png": "[encoded data removed]",
      "text/plain": [
       "<Figure size 640x480 with 6 Axes>"
      ]
     },
     "metadata": {},
     "output_type": "display_data"
    }
   ],
   "source": [
    "def noisy_evaluation(p):\n",
    "    network = HebbMemoryNetwork()\n",
    "    a_noise = []\n",
    "    b_noise = []\n",
    "    c_noise = []\n",
    "\n",
    "    for i in range(100):\n",
    "        a_test = network.generate_noisy_pattern(network.a_in, p)\n",
    "        b_test = network.generate_noisy_pattern(network.b_in, p)\n",
    "        c_test = network.generate_noisy_pattern(network.c_in, p)\n",
    "\n",
    "        a_out = network.test_pattern(a_test)\n",
    "        b_out = network.test_pattern(b_test)\n",
    "        c_out = network.test_pattern(c_test)\n",
    "\n",
    "        a_noise.append(network.evaluate_pattern(network.a_out, a_out))\n",
    "        b_noise.append(network.evaluate_pattern(network.b_out, b_out))\n",
    "        c_noise.append(network.evaluate_pattern(network.c_out, c_out))\n",
    "\n",
    "    p_a_noise = np.sum(a_noise) / 100\n",
    "    p_b_noise = np.sum(b_noise) / 100\n",
    "    p_c_noise = np.sum(c_noise) / 100\n",
    "\n",
    "    return p_a_noise, p_b_noise, p_c_noise\n",
    "\n",
    "# Create an instance of the HebbMemoryNetwork class\n",
    "network = HebbMemoryNetwork()\n",
    "network.visualize_memory()\n",
    "\n",
    "# Test the patterns with noise levels\n",
    "print(f'Reconstruction success rate for Letters (A, B, C) with 20% noise in input: {noisy_evaluation(0.20)}')\n",
    "print(f'Reconstruction success rate for Letters (A, B, C) with 25% noise in input: {noisy_evaluation(0.25)}')\n",
    "print(f'Reconstruction success rate for Letters (A, B, C) with 30% noise in input: {noisy_evaluation(0.30)}')\n",
    "print(f'Reconstruction success rate for Letters (A, B, C) with 35% noise in input: {noisy_evaluation(0.35)}')\n",
    "print(f'Reconstruction success rate for Letters (A, B, C) with 40% noise in input: {noisy_evaluation(0.40)}')\n",
    "\n"
   ]
  },
  {
   "cell_type": "code",
   "execution_count": 19,
   "metadata": {},
   "outputs": [
    {
     "data": {
      "text/plain": [
       "<matplotlib.image.AxesImage at 0x1dbce1ee650>"
      ]
     },
     "execution_count": 19,
     "metadata": {},
     "output_type": "execute_result"
    },
    {
     "data": {
      "image/png": "[encoded data removed]",
      "text/plain": [
       "<Figure size 640x480 with 3 Axes>"
      ]
     },
     "metadata": {},
     "output_type": "display_data"
    }
   ],
   "source": [
    "noisy = network.generate_noisy_pattern(network.a_in, 0.3)\n",
    "reconstructed = network.test_pattern(noisy)\n",
    "plt.subplot(1, 3, 1)\n",
    "plt.imshow(network.a_in)\n",
    "plt.subplot(1, 3, 2)\n",
    "plt.imshow(noisy)\n",
    "plt.subplot(1, 3, 3)\n",
    "plt.imshow(reconstructed)\n"
   ]
  }
 ],
 "metadata": {
  "colab": {
   "authorship_tag": "ABX9TyNS0DuyXx2vejQuggANMAOa",
   "collapsed_sections": [],
   "name": "HW3-q1.ipynb",
   "provenance": []
  },
  "kernelspec": {
   "display_name": "Python 3 (ipykernel)",
   "language": "python",
   "name": "python3"
  },
  "language_info": {
   "codemirror_mode": {
    "name": "ipython",
    "version": 3
   },
   "file_extension": ".py",
   "mimetype": "text/x-python",
   "name": "python",
   "nbconvert_exporter": "python",
   "pygments_lexer": "ipython3",
   "version": "3.10.9"
  }
 },
 "nbformat": 4,
 "nbformat_minor": 1
}
