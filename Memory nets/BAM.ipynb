{
 "cells": [
  {
   "cell_type": "code",
   "execution_count": 0,
   "metadata": {
    "colab": {},
    "colab_type": "code",
    "id": "E3SRq_XNwS6f"
   },
   "outputs": [],
   "source": [
    "import numpy as np\n",
    "import matplotlib.pyplot as plt\n"
   ]
  },
  {
   "cell_type": "code",
   "execution_count": 0,
   "metadata": {
    "colab": {},
    "colab_type": "code",
    "id": "knycVOLhwc_X"
   },
   "outputs": [],
   "source": [
    "plane_o = np.array([[False, False, False, False, False,  True,  True, False,  True,\n",
    "         True,  True,  True,  True,  True,  True,  True, False, False,\n",
    "         True,  True,  True, False,  True,  True,  True,  True, False,\n",
    "         True, False, False, False, False, False,  True,  True],\n",
    "       [False,  True,  True,  True,  True, False,  True, False,  True,\n",
    "         True, True,  True,  True,  True, True, False,  True,  True,\n",
    "        False,  True,  True, False, False,  True,  True,  True, False,\n",
    "         True, False,  True,  True,  True,  True, True,  True],\n",
    "       [False,  True,  True,  True,  True, False,  True, False,  True,\n",
    "         True,  True,  True, True,  True,  True, False,  True,  True,\n",
    "        False,  True,  True, False, False,  True, True,  True, False,\n",
    "         True, False,  True,  True,  True,  True,  True,  True],\n",
    "       [False,  True, True,  True,  True, False,  True, False, True,\n",
    "         True,  True,  True,  True,  True,  True, False,  True,  True,\n",
    "        False, True,  True, False,  True, False,  True,  True, False,\n",
    "         True, False, False, False, False, False,  True, True],\n",
    "       [False, False, False, False, False,  True,  True, False,  True,\n",
    "         True, True,  True,  True, True, False,  True, True,  True,\n",
    "         True, False,  True, False,  True,  True, False,  True, False,\n",
    "         True, False,  True,  True,  True,  True,  True,  True],\n",
    "       [False,  True,  True,  True,  True, True,  True, False,  True,\n",
    "         True,  True,  True, True,  True, False, False,  False, False,\n",
    "        False, False,  True, False,  True,  True, True, False, False,\n",
    "         True, False,  True, True,  True,  True, True,  True],\n",
    "       [False,  True,  True,  True,  True,  True,  True, False, True,\n",
    "         True, True,  True, True,  True, False,  True,  True,  True,\n",
    "         True, False,  True, False,  True,  True,  True, False, False,\n",
    "         True, False,  True,  True, True,  True,  True,  True],\n",
    "       [False,  True, True,  True, True,  True,  True, False, False,\n",
    "        False, False, False, False,  True, False,  True, True,  True,\n",
    "         True, False,  True, False, True,  True,  True,  True, False,\n",
    "         True, False, False, False, False, False, False,  True]])\n"
   ]
  },
  {
   "cell_type": "code",
   "execution_count": 0,
   "metadata": {
    "colab": {},
    "colab_type": "code",
    "id": "IHPfl4C9w3gn"
   },
   "outputs": [],
   "source": [
    "tank_o = np.array([[False, False, False, False, False, False, False,  True,  True,\n",
    "         True,  True,  True, False,  True,  True,  True,  True,  True,\n",
    "        False,  True,  True,  True,  True,  True,  True, False,  True,\n",
    "         True, False,  True,  True,  True,  True, False,  True],\n",
    "       [ True,  True,  True, False,  True,  True,  True, 1,  True,\n",
    "         True, 1, False,  True, False,  True, 1,  True,  True,\n",
    "        False, False,  True, 1,  True,  True,  True, False,  True,\n",
    "         True, False,  True,  True, 1, False,  True,  True],\n",
    "       [ True,  True,  True, False,  True, 1,  True,  True,  True,\n",
    "         True, False,  True,  True, 1, False,  True,  True,  True,\n",
    "        False,  True, False,  True,  True, 1,  True, False, 1,\n",
    "         True, False,  True,  True, False,  True,  True,  True],\n",
    "       [ True, 1,  True, False,  True,  True,  True,  True,  True,\n",
    "         True, False,  True,  True,  True, False,  True,  True, 1,\n",
    "        False,  True,  True, False,  True,  True,  True, False,  True,\n",
    "         True, False, False, False,  True,  True, 1,  True],\n",
    "       [ True,  True,  True, False,  True,  True, 1,  True,  True,\n",
    "        False,  True, 1,  True,  True,  True, False,  True,  True,\n",
    "        False,  True,  True, 1, False,  True,  True, False,  True,\n",
    "         True, False,  True, 1, False,  True,  True,  True],\n",
    "       [ True,  True,  True, False, 1,  True,  True,  True,  True,\n",
    "        False, False, False, False, False, False, False,  True,  True,\n",
    "        False,  True,  True,  True,  True, False,  True, False,  True,\n",
    "        1, False,  1,  True,  True, False,  True,  True],\n",
    "       [ True, 1,  True, False,  True,  True,  True, 1,  True,\n",
    "        False,  True,  True,  True,  True,  True, False,  True,  True,\n",
    "        False, 1,  True,  True,  True, 1, False, False,  True,\n",
    "         True, False,  True,  True,  True, 1, False,  True],\n",
    "       [ True,  True,  True, False,  True,  True,  True,  True,  True,\n",
    "        False,  True,  True, True,  True,  True, False, True,  True,\n",
    "        False,  True,  True, 1,  True,  True,  True, False,  True,\n",
    "         True, False,  True,  True,  True,  True,  True, False]])\n"
   ]
  },
  {
   "cell_type": "code",
   "execution_count": 0,
   "metadata": {
    "colab": {},
    "colab_type": "code",
    "id": "BzDTOJH5BHGr"
   },
   "outputs": [],
   "source": [
    "plane_i = np.array([[ True,  True,  True,  True,  True,  True,  True,  0, False, True,  True,  True,  True,  True,  True,  True],\n",
    "       [ True,  True,  True,  True, 1,  True,  True, False, False, True,  True,  True,  True, 1,  True,  True],\n",
    "       [ True, 1,  True,  True,  True,  True, 1, False, False, True,  True, 1,  True,  True,  True,  True],\n",
    "       [ True,  True,  True,  True, 1,  True,  True, False, False, True,  True,  True,  True,  True, 1,  True],\n",
    "       [ True,  True, 1,  True,  True,  True,  True, False, False, 1,  True,  True, 1,  True,  True,  True],\n",
    "       [ True,  True,  True,  1,  0, False, False, False, False, False,  0,  0,  True,  True,  True,  True],\n",
    "       [ True,  True, 1,  0,  0, False, False,  0, False, False, False, False,  0,  True, 1,  True],\n",
    "       [ True, 1 ,  0, False, False, False, False, False, False, 0, 0, False,  0,  0,  True,  True],\n",
    "       [ 1,  0, False, False, 1,  True,  True, False, False, True,  True, 1, False, False,  0,  True],\n",
    "       [ 0, False, False,  True, 1,  True,  True, False, False, True,  True, 1, 1, False, False,  0],\n",
    "       [ 0, 0, 1,  True,  True,  True,  True, False, False, True,  True,  True,  True, 1, False,  0],\n",
    "       [False, 1,  True,  True, 1,  True,  True, False, False, True,  True,  True,  True,  True, 1, False],\n",
    "       [ True,  True,  True,  True,  True,  True, 1,  0, False, True, 1,  True, 1,  True,  True,  True],\n",
    "       [ True,  True, 1,  True, 1,  True,  True, 0, 0, 1,  True,  True,  True,  True, 1,  True],\n",
    "       [ True,  True,  True,  True,  True,  True, False, False, False, False,  True,  True,  True,  True,  True,  True],\n",
    "       [ True, 1,  True,  True,  True, 1, False,  True,  True, False,  True,  True, 1,  True,  True,  True]])\n"
   ]
  },
  {
   "cell_type": "code",
   "execution_count": 0,
   "metadata": {
    "colab": {},
    "colab_type": "code",
    "id": "qBXyQdFMFfSL"
   },
   "outputs": [],
   "source": [
    "tank_i = np.array([[ True,  True,  True,  True,  True,  True, False, False, False, False,  True,  True,  True,  True,  True,  True],\n",
    "       [ True,  True, True,  True,  True,  True,  True, False, False, True,  True,  True, True,  True,  True, True],\n",
    "       [ True,  True,  True,  True, True,  True,  True, False, False, True,  True,  True,  True,  True,  True,  True],\n",
    "       [ True, True,  True,  True,  True,  True, True, False, False, True,  True, True,  True,  True, True,  True],\n",
    "       [ True,  True,  True,  True, True,  True,  True, False, False, True,  True,  True,  True,  True,  True,  True],\n",
    "       [ True,  True, True,  True,  True,  True,  True, False, False, True,  True,  True, True,  True,  True, True],\n",
    "       [ True,  True,  True,  True,  True,  True,  True, False, False, True,  True,  True,  True,  True,  True,  True],\n",
    "       [ True, True,  True,  True, True,  True,  True, False, False, True, True,  True,  True, True,  True,  True],\n",
    "       [ True,  True, False, False,  True,  True,  True, False, False, True,  True,  True, False, False,  True,  True],\n",
    "       [ True,  True, False, False,  True, True, False, False, False, False,  True, True, False,  False,  True, True],\n",
    "       [ True,  True, False, False,  True, False, False, False, False, False, False,  True, False, False,  True,  True],\n",
    "       [ True,  True, False, False, False, False, False, False, False, False, False, False, False, False,  True,  True],\n",
    "       [ True,  True, False, False,  True, False, False, False, False, False, False,  True, False, False,  True,  True],\n",
    "       [ True,  True, False, False,  True,  True, False, False, False, False, True,  True, False, False,  True,  True],\n",
    "       [ True,  True, False, False,  True,  True,  True,  True,  True, True,  True,  True, False, False,  True,  True],\n",
    "       [ True,  True, False, False,  True, True,  True,  True,  True, True,  True,  True, False,  False,  True, True]])\n"
   ]
  },
  {
   "cell_type": "code",
   "execution_count": 0,
   "metadata": {
    "colab": {},
    "colab_type": "code",
    "id": "dqL5drggHX5n"
   },
   "outputs": [],
   "source": [
    "plane_i = (plane_i*2-1).reshape((16*16,1))\n",
    "plane_o = (plane_o*2-1).reshape((35*8,1))\n",
    "tank_i = (tank_i*2-1).reshape((16*16,1))\n",
    "tank_o = (tank_o*2-1).reshape((35*8,1))"
   ]
  },
  {
   "cell_type": "code",
   "execution_count": 7,
   "metadata": {
    "colab": {
     "base_uri": "https://localhost:8080/",
     "height": 284
    },
    "colab_type": "code",
    "id": "RXyk7I7FGsqF",
    "outputId": "4d310ce7-7e5b-44ee-e3d4-fd5aa12b1496"
   },
   "outputs": [
    {
     "data": {
      "text/plain": [
       "<matplotlib.image.AxesImage at 0x7f6e5607fe80>"
      ]
     },
     "execution_count": 7,
     "metadata": {
      "tags": []
     },
     "output_type": "execute_result"
    },
    {
     "data": {
      "image/png": "[encoded data removed]",
      "text/plain": [
       "<Figure size 432x288 with 4 Axes>"
      ]
     },
     "metadata": {
      "needs_background": "light",
      "tags": []
     },
     "output_type": "display_data"
    }
   ],
   "source": [
    "plt.subplot(2,2,1)\n",
    "plt.imshow(plane_i.reshape((16,16)))\n",
    "plt.subplot(2,2,2)\n",
    "plt.imshow(plane_o.reshape((8,35)))\n",
    "plt.subplot(2,2,3)\n",
    "plt.imshow(tank_i.reshape((16,16)))\n",
    "plt.subplot(2,2,4)\n",
    "plt.imshow(tank_o.reshape((8,35)))"
   ]
  },
  {
   "cell_type": "code",
   "execution_count": 0,
   "metadata": {
    "colab": {},
    "colab_type": "code",
    "id": "7Gbj25ukG-9s"
   },
   "outputs": [],
   "source": [
    "w = tank_i @ tank_o.T + plane_i @ plane_o.T\n",
    "def BAM(w,s,t):\n",
    "    it = 0\n",
    "    x = s\n",
    "    y = t\n",
    "    while True:\n",
    "        it += 1\n",
    "        y_in = x.T @ w\n",
    "        y1 = np.sign(y_in)\n",
    "        x_in = y1 @ w.T\n",
    "        x1 = np.sign(x_in)\n",
    "        if (x1 == x).all() and (y1 == y).all():\n",
    "            break\n",
    "        if it == 100:\n",
    "            break\n",
    "        x = x1.reshape((16*16,1))\n",
    "        y = y1\n",
    "    return x,y,it\n",
    "\n",
    "def noisy(x,p):\n",
    "    xn = x.copy()\n",
    "    n = np.int(x.size * p)\n",
    "    pix = np.random.choice(x.size, n, replace=False)\n",
    "    for i in pix:\n",
    "        xn[i] = -xn[i]\n",
    "    return xn"
   ]
  },
  {
   "cell_type": "code",
   "execution_count": 9,
   "metadata": {
    "colab": {
     "base_uri": "https://localhost:8080/",
     "height": 142
    },
    "colab_type": "code",
    "id": "fZfa0S42yf9B",
    "outputId": "783db03b-4589-482d-8ca4-7ffc5398ae9d"
   },
   "outputs": [
    {
     "data": {
      "text/plain": [
       "<matplotlib.image.AxesImage at 0x7f6e55b2ad68>"
      ]
     },
     "execution_count": 9,
     "metadata": {
      "tags": []
     },
     "output_type": "execute_result"
    },
    {
     "data": {
      "image/png": "[encoded data removed]",
      "text/plain": [
       "<Figure size 432x288 with 1 Axes>"
      ]
     },
     "metadata": {
      "needs_background": "light",
      "tags": []
     },
     "output_type": "display_data"
    }
   ],
   "source": [
    "plt.imshow(BAM(w,plane_i,plane_o)[1].reshape(8,35))"
   ]
  },
  {
   "cell_type": "code",
   "execution_count": 10,
   "metadata": {
    "colab": {
     "base_uri": "https://localhost:8080/",
     "height": 283
    },
    "colab_type": "code",
    "id": "L0vmeez2y3RI",
    "outputId": "351ac45d-3300-4751-f165-79d665cf452f"
   },
   "outputs": [
    {
     "data": {
      "text/plain": [
       "<matplotlib.image.AxesImage at 0x7f6e55b01eb8>"
      ]
     },
     "execution_count": 10,
     "metadata": {
      "tags": []
     },
     "output_type": "execute_result"
    },
    {
     "data": {
      "image/png": "[encoded data removed]",
      "text/plain": [
       "<Figure size 432x288 with 1 Axes>"
      ]
     },
     "metadata": {
      "needs_background": "light",
      "tags": []
     },
     "output_type": "display_data"
    }
   ],
   "source": [
    "plt.imshow(BAM(w,plane_i,plane_o)[0].reshape(16,16))"
   ]
  },
  {
   "cell_type": "code",
   "execution_count": 11,
   "metadata": {
    "colab": {
     "base_uri": "https://localhost:8080/",
     "height": 142
    },
    "colab_type": "code",
    "id": "GP912zlxy3aW",
    "outputId": "15250f84-4354-4479-e23e-840946d7c747"
   },
   "outputs": [
    {
     "data": {
      "text/plain": [
       "<matplotlib.image.AxesImage at 0x7f6e55a75630>"
      ]
     },
     "execution_count": 11,
     "metadata": {
      "tags": []
     },
     "output_type": "execute_result"
    },
    {
     "data": {
      "image/png": "[encoded data removed]",
      "text/plain": [
       "<Figure size 432x288 with 1 Axes>"
      ]
     },
     "metadata": {
      "needs_background": "light",
      "tags": []
     },
     "output_type": "display_data"
    }
   ],
   "source": [
    "plt.imshow(BAM(w,tank_i,tank_o)[1].reshape(8,35))"
   ]
  },
  {
   "cell_type": "code",
   "execution_count": 12,
   "metadata": {
    "colab": {
     "base_uri": "https://localhost:8080/",
     "height": 283
    },
    "colab_type": "code",
    "id": "JTBUIoDwy3lX",
    "outputId": "6049c9b7-b2a6-4ea0-9e9f-199e5421a097"
   },
   "outputs": [
    {
     "data": {
      "text/plain": [
       "<matplotlib.image.AxesImage at 0x7f6e559cf390>"
      ]
     },
     "execution_count": 12,
     "metadata": {
      "tags": []
     },
     "output_type": "execute_result"
    },
    {
     "data": {
      "image/png": "[encoded data removed]",
      "text/plain": [
       "<Figure size 432x288 with 1 Axes>"
      ]
     },
     "metadata": {
      "needs_background": "light",
      "tags": []
     },
     "output_type": "display_data"
    }
   ],
   "source": [
    "plt.imshow(BAM(w,tank_i,tank_o)[0].reshape(16,16))"
   ]
  },
  {
   "cell_type": "code",
   "execution_count": 13,
   "metadata": {
    "colab": {
     "base_uri": "https://localhost:8080/",
     "height": 415
    },
    "colab_type": "code",
    "id": "-JS2Dcq9AieC",
    "outputId": "d05fd87e-11b8-4420-d3dd-6811e718258e"
   },
   "outputs": [
    {
     "data": {
      "image/png": "[encoded data removed]",
      "text/plain": [
       "<Figure size 432x288 with 2 Axes>"
      ]
     },
     "metadata": {
      "needs_background": "light",
      "tags": []
     },
     "output_type": "display_data"
    },
    {
     "data": {
      "image/png": "[encoded data removed]",
      "text/plain": [
       "<Figure size 432x288 with 2 Axes>"
      ]
     },
     "metadata": {
      "needs_background": "light",
      "tags": []
     },
     "output_type": "display_data"
    }
   ],
   "source": [
    "noisy_t = noisy(tank_i, 0.3)\n",
    "plt.subplot(1,2,1)\n",
    "plt.imshow(noisy_t.reshape((16,16)))\n",
    "plt.title('Noisy Tank image as input')\n",
    "plt.subplot(1,2,2)\n",
    "plt.imshow(BAM(w,noisy_t,np.zeros(16))[1].reshape((8,35)))\n",
    "plt.title('BAM output')\n",
    "plt.show()\n",
    "noisy_p = noisy(plane_i, 0.3)\n",
    "plt.subplot(1,2,1)\n",
    "plt.imshow(noisy_p.reshape((16,16)))\n",
    "plt.title('Noisy Plane image as input')\n",
    "plt.subplot(1,2,2)\n",
    "plt.imshow(BAM(w,noisy_p,np.zeros(16))[1].reshape((8,35)))\n",
    "plt.title('BAM output')\n",
    "plt.show()\n"
   ]
  },
  {
   "cell_type": "code",
   "execution_count": 24,
   "metadata": {
    "colab": {
     "base_uri": "https://localhost:8080/",
     "height": 52
    },
    "colab_type": "code",
    "id": "WuHJQ70qbBir",
    "outputId": "5788e8d7-b552-4f3d-c732-d0a0aeac3199"
   },
   "outputs": [
    {
     "name": "stdout",
     "output_type": "stream",
     "text": [
      "0\n"
     ]
    },
    {
     "data": {
      "text/plain": [
       "0"
      ]
     },
     "execution_count": 24,
     "metadata": {
      "tags": []
     },
     "output_type": "execute_result"
    }
   ],
   "source": [
    "error_p = BAM(w,noisy_p,np.zeros(16))[1] - plane_o.T\n",
    "print(np.sum(error_p !=0))\n",
    "error_t = BAM(w,noisy_t,np.zeros(16))[1] - tank_o.T\n",
    "np.sum(error_t !=0)\n"
   ]
  }
 ],
 "metadata": {
  "colab": {
   "collapsed_sections": [],
   "name": "HW3 - q4.ipynb",
   "provenance": []
  },
  "kernelspec": {
   "display_name": "Python 3 (ipykernel)",
   "language": "python",
   "name": "python3"
  },
  "language_info": {
   "codemirror_mode": {
    "name": "ipython",
    "version": 3
   },
   "file_extension": ".py",
   "mimetype": "text/x-python",
   "name": "python",
   "nbconvert_exporter": "python",
   "pygments_lexer": "ipython3",
   "version": "3.10.9"
  }
 },
 "nbformat": 4,
 "nbformat_minor": 1
}
