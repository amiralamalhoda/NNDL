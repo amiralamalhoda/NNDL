{
 "cells": [
  {
   "cell_type": "code",
   "execution_count": 1,
   "metadata": {
    "colab": {
     "base_uri": "https://localhost:8080/",
     "height": 88
    },
    "colab_type": "code",
    "id": "stf20a8GvceC",
    "outputId": "ee5b04cc-99bf-431d-bfb5-d045f11160ee"
   },
   "outputs": [
    {
     "data": {
      "text/plain": [
       "array([[ 0.,  1.,  1., -1.],\n",
       "       [ 1.,  0.,  1., -1.],\n",
       "       [ 1.,  1.,  0., -1.],\n",
       "       [-1., -1., -1.,  0.]])"
      ]
     },
     "execution_count": 1,
     "metadata": {
      "tags": []
     },
     "output_type": "execute_result"
    }
   ],
   "source": [
    "import numpy as np\n",
    "s = np.array([1,1,1,-1]).reshape((4,1))\n",
    "w = s @ s.T - 1* np.eye(4)\n",
    "def IAAN(w,s):\n",
    "    stop = False\n",
    "    it = 0\n",
    "    while not stop:\n",
    "        it += 1\n",
    "        y = np.sign(s.T @ w).reshape(4,1)\n",
    "        if (y == s).all() or it == 100:\n",
    "            stop = True\n",
    "            return y, it\n",
    "        s = y \n",
    "print(w)\n"
   ]
  },
  {
   "cell_type": "code",
   "execution_count": 0,
   "metadata": {
    "colab": {},
    "colab_type": "code",
    "id": "UVSTkbpAVdgN"
   },
   "outputs": [],
   "source": [
    "m1 = np.array([1,0,0,0]).reshape((4,1))\n",
    "m2 = np.array([0,1,0,0]).reshape((4,1))\n",
    "m3 = np.array([0,0,1,0]).reshape((4,1))\n",
    "m4 = np.array([0,0,0,-1]).reshape((4,1))\n",
    "\n",
    "n1 = np.array([1,-1,-1,1]).reshape((4,1))\n",
    "n2 = np.array([-1,1,-1,1]).reshape((4,1))\n",
    "n3 = np.array([-1,-1,1,1]).reshape((4,1))\n",
    "n4 = np.array([-1,-1,-1,-1]).reshape((4,1))"
   ]
  },
  {
   "cell_type": "markdown",
   "metadata": {
    "colab_type": "text",
    "id": "i4lIxzUaTS00"
   },
   "source": [
    "# Iterative AAN"
   ]
  },
  {
   "cell_type": "code",
   "execution_count": 3,
   "metadata": {
    "colab": {
     "base_uri": "https://localhost:8080/",
     "height": 177
    },
    "colab_type": "code",
    "id": "GNHudH02yRK0",
    "outputId": "81e6fb74-0bdd-4e03-e3e9-7edff4c83154"
   },
   "outputs": [
    {
     "name": "stdout",
     "output_type": "stream",
     "text": [
      "[[ 1  1  1 -1]] [[ 1.  1.  1. -1.]]\n",
      "[[ 1 -1 -1  1]] [[-1. -1. -1.  1.]]\n",
      "[[-1  1 -1  1]] [[-1. -1. -1.  1.]]\n",
      "[[-1 -1  1  1]] [[-1. -1. -1.  1.]]\n",
      "[[-1 -1 -1 -1]] [[-1. -1. -1.  1.]]\n",
      "[[1 0 0 0]] [[ 1.  1.  1. -1.]]\n",
      "[[0 1 0 0]] [[ 1.  1.  1. -1.]]\n",
      "[[0 0 1 0]] [[ 1.  1.  1. -1.]]\n",
      "[[ 0  0  0 -1]] [[ 1.  1.  1. -1.]]\n"
     ]
    }
   ],
   "source": [
    "print(s.T,IAAN(w,s)[0].T)\n",
    "print(n1.T,IAAN(w,n1)[0].T)\n",
    "print(n2.T,IAAN(w,n2)[0].T)\n",
    "print(n3.T,IAAN(w,n3)[0].T)\n",
    "print(n4.T,IAAN(w,n4)[0].T)\n",
    "print(m1.T,IAAN(w,m1)[0].T)\n",
    "print(m2.T,IAAN(w,m2)[0].T)\n",
    "print(m3.T,IAAN(w,m3)[0].T)\n",
    "print(m4.T,IAAN(w,m4)[0].T)\n"
   ]
  },
  {
   "cell_type": "markdown",
   "metadata": {
    "colab_type": "text",
    "id": "EEk57GyUFOZA"
   },
   "source": [
    "# Discrete net\n"
   ]
  },
  {
   "cell_type": "code",
   "execution_count": 0,
   "metadata": {
    "colab": {},
    "colab_type": "code",
    "id": "wERheBAQFVSM"
   },
   "outputs": [],
   "source": [
    "def DHN(w,x):\n",
    "    stop = False\n",
    "    y = x\n",
    "    while True:\n",
    "        ind = np.array([0,1,2,3])\n",
    "        np.random.shuffle(ind)\n",
    "        for i in ind:\n",
    "            y_in = x[i] + y.T @ w[i]\n",
    "            y[i] = np.sign(y_in)\n",
    "        if (y == x).all():\n",
    "            return y\n",
    "        x = y"
   ]
  },
  {
   "cell_type": "code",
   "execution_count": 5,
   "metadata": {
    "colab": {
     "base_uri": "https://localhost:8080/",
     "height": 177
    },
    "colab_type": "code",
    "id": "yokPzwPVJlDm",
    "outputId": "3c567059-91cd-45e2-e658-baa51b5aaf0c"
   },
   "outputs": [
    {
     "name": "stdout",
     "output_type": "stream",
     "text": [
      "[[ 1  1  1 -1]]\n",
      "[[-1 -1 -1  1]]\n",
      "[[-1 -1 -1  1]]\n",
      "[[-1 -1 -1  1]]\n",
      "[[-1 -1 -1  1]]\n",
      "[[ 1  1  1 -1]]\n",
      "[[ 1  1  1 -1]]\n",
      "[[ 1  1  1 -1]]\n",
      "[[ 1  1  1 -1]]\n"
     ]
    }
   ],
   "source": [
    "\n",
    "print(DHN(w,s).T)\n",
    "print(DHN(w,n1).T)\n",
    "print(DHN(w,n2).T)\n",
    "print(DHN(w,n3).T)\n",
    "print(DHN(w,n4).T)\n",
    "print(DHN(w,m1).T)\n",
    "print(DHN(w,m2).T)\n",
    "print(DHN(w,m3).T)\n",
    "print(DHN(w,m4).T)\n"
   ]
  }
 ],
 "metadata": {
  "colab": {
   "collapsed_sections": [],
   "name": "HW3-q3.ipynb",
   "provenance": []
  },
  "kernelspec": {
   "display_name": "Python 3 (ipykernel)",
   "language": "python",
   "name": "python3"
  },
  "language_info": {
   "codemirror_mode": {
    "name": "ipython",
    "version": 3
   },
   "file_extension": ".py",
   "mimetype": "text/x-python",
   "name": "python",
   "nbconvert_exporter": "python",
   "pygments_lexer": "ipython3",
   "version": "3.10.9"
  }
 },
 "nbformat": 4,
 "nbformat_minor": 1
}
